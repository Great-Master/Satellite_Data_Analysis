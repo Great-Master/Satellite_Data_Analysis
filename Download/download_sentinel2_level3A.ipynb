{
 "cells": [
  {
   "cell_type": "markdown",
   "id": "e958c7be-f8b9-4d2c-8282-5a2fa43db988",
   "metadata": {},
   "source": [
    "# SENTINEL 2 LEVEL 3A DATA  ACQUISITION"
   ]
  },
  {
   "cell_type": "code",
   "execution_count": null,
   "id": "9a8fc031-e026-4816-93e5-556dcbb842d2",
   "metadata": {},
   "outputs": [],
   "source": [
    "#! pip install eodag"
   ]
  },
  {
   "cell_type": "code",
   "execution_count": null,
   "id": "66af3c40-6d46-49e6-8c16-6a78898bf85c",
   "metadata": {},
   "outputs": [],
   "source": [
    "from eodag import EODataAccessGateway\n",
    "# Import necessary packages\n",
    "import os \n",
    "import cv2\n",
    "from datetime import date\n",
    "import json\n",
    "import itertools\n",
    "import geopandas as gpd\n",
    "import rasterio\n",
    "import matplotlib.pyplot as plt\n",
    "import numpy as np\n",
    "from sentinelsat import SentinelAPI, read_geojson, geojson_to_wkt\n",
    "from sentinelhub import pixel_to_utm, utm_to_pixel\n",
    "import utm\n",
    "import pandas as pd\n",
    "from shapely.geometry import box\n",
    "from rasterio.mask import mask"
   ]
  },
  {
   "cell_type": "code",
   "execution_count": null,
   "id": "3cde1033-08ed-421f-8f8a-b7d5b759fd2b",
   "metadata": {},
   "outputs": [],
   "source": [
    "dag = EODataAccessGateway()"
   ]
  },
  {
   "cell_type": "code",
   "execution_count": null,
   "id": "bd1e06c0-9f2d-48f1-921c-b7d6ce2f95d6",
   "metadata": {},
   "outputs": [],
   "source": [
    "dag.set_preferred_provider(\"theia\")"
   ]
  },
  {
   "cell_type": "code",
   "execution_count": null,
   "id": "af8aa9db-c8b3-486c-bf63-7e24d57e2ab2",
   "metadata": {},
   "outputs": [],
   "source": [
    "import geopandas as gpd"
   ]
  },
  {
   "cell_type": "code",
   "execution_count": null,
   "id": "63382fcd-bfb9-48a6-ad73-953618a6128a",
   "metadata": {},
   "outputs": [],
   "source": [
    "#aoi_path = \"../data/Andramasina_trees_location_2.geojson\"\n",
    "#Set the path to data\n",
    "aoi_dir = \"./aoi\"\n",
    "#aoi_file = \"fkkl_rwy.geojson\"\n",
    "aoi_file = \"Andramasina_trees_location_2.geojson\"\n",
    "aoi_path = os.path.join(aoi_dir , aoi_file ) "
   ]
  },
  {
   "cell_type": "code",
   "execution_count": null,
   "id": "0db4cae2-95a6-4ceb-b654-213e99ec0829",
   "metadata": {},
   "outputs": [],
   "source": [
    "aoi = gpd.read_file(aoi_path)\n"
   ]
  },
  {
   "cell_type": "code",
   "execution_count": null,
   "id": "fa4ef728-735c-44e1-bea5-8db74a086348",
   "metadata": {},
   "outputs": [],
   "source": [
    "values = []\n",
    "for i in range(len(aoi.bounds.iloc[0])):\n",
    "    values.append(aoi.bounds.iloc[0][i])\n",
    "keys = [\"lonmin\", \"latmin\", \"lonmax\", \"latmax\"]  \n",
    "geometry = dict(zip(keys, values))"
   ]
  },
  {
   "cell_type": "code",
   "execution_count": null,
   "id": "32d6a0aa-1ff5-42a2-80eb-03c7fb393648",
   "metadata": {},
   "outputs": [],
   "source": [
    "geometry"
   ]
  },
  {
   "cell_type": "code",
   "execution_count": null,
   "id": "00a5899d-44e4-464a-81aa-2dc07fe37ce9",
   "metadata": {},
   "outputs": [],
   "source": [
    "# ! eodag list -p theia"
   ]
  },
  {
   "cell_type": "code",
   "execution_count": null,
   "id": "6549f967-f1f9-420a-b776-bd132896d6e3",
   "metadata": {},
   "outputs": [],
   "source": [
    "search_criteria = {\n",
    "    \"productType\": \"S2_MSI_L3A_WASP\",\n",
    "    \"start\": \"2021-04-01\",\n",
    "    \"end\": \"2021-04-30\",\n",
    "    #\"geom\": {\"lonmin\": 1, \"latmin\": 43, \"lonmax\": 2, \"latmax\": 44},\n",
    "    \"geom\": geometry, \n",
    "}"
   ]
  },
  {
   "cell_type": "code",
   "execution_count": null,
   "id": "ad32c095-a4b7-47e7-81d0-2af68e32840f",
   "metadata": {},
   "outputs": [],
   "source": [
    "search_results, total_count = dag.search(**search_criteria)"
   ]
  },
  {
   "cell_type": "code",
   "execution_count": null,
   "id": "6df88241-cdbd-46cd-9e6b-ded61b1feb0d",
   "metadata": {},
   "outputs": [],
   "source": [
    "print(f\"Got {len(search_results)} products and an estimated total number of {total_count} products.\")"
   ]
  },
  {
   "cell_type": "code",
   "execution_count": null,
   "id": "931bbd91-de50-4eb3-a0fa-4e30dd73a543",
   "metadata": {},
   "outputs": [],
   "source": [
    "#product_paths = dag.download_all(search_results)"
   ]
  },
  {
   "cell_type": "code",
   "execution_count": null,
   "id": "4008115d-9c97-4162-9a9e-2e675f0dbe41",
   "metadata": {},
   "outputs": [],
   "source": [
    "pwd"
   ]
  },
  {
   "cell_type": "code",
   "execution_count": null,
   "id": "95fffa2e-1db9-44b6-81c8-2bb730e058dc",
   "metadata": {},
   "outputs": [],
   "source": [
    "image_folder = \"./data/SENTINEL2X_20210401-000000-000_L3A_T38KQD_D/SENTINEL2X_20210401-000000-000_L3A_T38KQD_C_V2-3\""
   ]
  },
  {
   "cell_type": "code",
   "execution_count": null,
   "id": "5f40e515-1d71-4d7f-abcc-8f3d1dfcf268",
   "metadata": {},
   "outputs": [],
   "source": [
    "image_files = [im for im in os.listdir(image_folder) if im[-4:] == \".tif\"]"
   ]
  },
  {
   "cell_type": "code",
   "execution_count": null,
   "id": "2895289c-8489-40f2-9c7a-7c66f8aace4c",
   "metadata": {},
   "outputs": [],
   "source": [
    "print(image_files)"
   ]
  },
  {
   "cell_type": "code",
   "execution_count": null,
   "id": "58f38c00-c433-451a-8ff4-28859e85070c",
   "metadata": {},
   "outputs": [],
   "source": [
    "selected_file = [im for im in image_files if (im[-6:] in [\"B2.tif\", \"B3.tif\", \"B4.tif\", \"B8.tif\"])]"
   ]
  },
  {
   "cell_type": "code",
   "execution_count": null,
   "id": "464208cc-f32a-4ba7-a997-019ab46c209e",
   "metadata": {},
   "outputs": [],
   "source": [
    "print(selected_file)"
   ]
  },
  {
   "cell_type": "code",
   "execution_count": null,
   "id": "7aef9174-3edd-49d4-a474-42dfb7141599",
   "metadata": {},
   "outputs": [],
   "source": [
    "def get_metadata(image_folder):\n",
    "    \n",
    "    image_files = [im for im in os.listdir(image_folder) if im[-4:] == \".tif\"]\n",
    "    \n",
    "    selected_file = [im for im in image_files if (im[-6:] in [\"B2.tif\", \"B3.tif\", \"B4.tif\", \"B8.tif\"])]\n",
    "    \n",
    "    with rasterio.open(f\"{image_folder}/{selected_file[0]}\") as infile:\n",
    "        \n",
    "        metadata = infile.meta.copy()\n",
    "        \n",
    "    print(len(selected_file))\n",
    "            \n",
    "    return metadata"
   ]
  },
  {
   "cell_type": "code",
   "execution_count": null,
   "id": "dc27e8dc-6e5b-4107-b98f-3309277fdda5",
   "metadata": {},
   "outputs": [],
   "source": [
    "import os\n",
    "meta = get_metadata(image_folder)"
   ]
  },
  {
   "cell_type": "code",
   "execution_count": null,
   "id": "54738194-d354-42d3-8625-e1aec087db41",
   "metadata": {},
   "outputs": [],
   "source": [
    "meta"
   ]
  },
  {
   "cell_type": "code",
   "execution_count": null,
   "id": "09e9f667-500e-48f7-beb0-d7dd7a233a68",
   "metadata": {},
   "outputs": [],
   "source": [
    "def get_band(image_folder, band):\n",
    "    \n",
    "    image_files = [im for im in os.listdir(image_folder) if im[-4:] == \".tif\"]\n",
    "    \n",
    "    selected_file = [im for im in image_files if (im[-6:] in [\"B2.tif\", \"B3.tif\", \"B4.tif\", \"B8.tif\"])]\n",
    "    \n",
    "    with rasterio.open(f\"{image_folder}/{selected_file[band]}\") as infile:\n",
    "        \n",
    "        img = infile.read(1)\n",
    "            \n",
    "    return img"
   ]
  },
  {
   "cell_type": "code",
   "execution_count": null,
   "id": "86123902-a391-403c-aa3b-457876dc4d02",
   "metadata": {},
   "outputs": [],
   "source": [
    "band_list = [\"B02\",\"B03\",\"B04\",\"B08\"]\n",
    "\n",
    "band_dict = {}\n",
    "\n",
    "for i, band in enumerate(band_list):\n",
    "    \n",
    "    band_dict[band] = get_band(image_folder, i)"
   ]
  },
  {
   "cell_type": "code",
   "execution_count": null,
   "id": "59428101-848d-4828-8353-12a4a2a8fd1d",
   "metadata": {},
   "outputs": [],
   "source": [
    "# Set directory for downloading the quad tiles to\n",
    "out_meta = get_metadata(image_folder)\n",
    "\n",
    "#rgbnir_out = './raster_process/rgbnir.tif'\n",
    "bgrnir_out = './data/Andramasina_trees_location_2_theia_05_2022.tif'\n",
    "\n",
    "out_meta.update({\"count\": 4})\n",
    "out_meta.update({'driver':'GTiff'})\n",
    "#out_meta.update({'crs': 3857})\n",
    "print(out_meta)\n",
    "\n",
    "bgrnir = np.dstack([band_dict[\"B04\"], band_dict[\"B03\"], band_dict[\"B02\"],band_dict[\"B08\"]])\n",
    "# We stack this bands on the following order to match planet NICFI data  band  stack\n",
    "# so the band arragement are : BGRNIR\n",
    "bgrnir = bgrnir.transpose(2, 0 ,1)\n",
    "with rasterio.open(bgrnir_out , \"w\", **out_meta) as dest:\n",
    "    dest.write(bgrnir)"
   ]
  },
  {
   "cell_type": "markdown",
   "id": "da5801c6-899a-43b2-b69c-3823b4a98d4c",
   "metadata": {},
   "source": [
    "<hr/> \n",
    "\n",
    "## 6-Clib the image to our AOI"
   ]
  },
  {
   "cell_type": "markdown",
   "id": "635e3988-7be6-45f2-b846-b53ed4ce0b24",
   "metadata": {},
   "source": [
    "**Note** : \n",
    "> After creating the image, the next step is to  and clip + 100m to get the image for processi"
   ]
  },
  {
   "cell_type": "code",
   "execution_count": null,
   "id": "c0117396-6ace-4e7a-bb0b-1505ee525da9",
   "metadata": {},
   "outputs": [],
   "source": [
    "def get_bounds_of_AoI(obj_aoi, src_crs):\n",
    "    \n",
    "    aoi = gpd.read_file(obj_aoi)\n",
    "    \n",
    "    bounds = aoi.total_bounds\n",
    "    \n",
    "    offset = 1/120  #100m in degree\n",
    "\n",
    "    # WGS84 coordinates\n",
    "    minx, miny = bounds[0]-offset, bounds[1]-offset\n",
    "    maxx, maxy = bounds[2]+offset, bounds[3]+offset\n",
    "\n",
    "    bbox = box(minx, miny, maxx, maxy)\n",
    "    \n",
    "    print(bbox)\n",
    "\n",
    "    geo = gpd.GeoDataFrame({'geometry': bbox}, index=[0], crs=\"EPSG:4326\")\n",
    "\n",
    "    #picking up the coordinate system of the image:\n",
    "    #crs=src.crs.to_epsg()\n",
    "    geo = geo.to_crs(crs=src_crs) #src.crs.to_epsg())\n",
    "\n",
    "    coords = getFeatures(geo)\n",
    "    \n",
    "    return coords\n",
    "\n",
    "    print(coords)"
   ]
  },
  {
   "cell_type": "code",
   "execution_count": null,
   "id": "5a34dee0-7726-4ce8-9d53-1075ad6de094",
   "metadata": {},
   "outputs": [],
   "source": [
    "def clip_raster_with_bounds(in_tif, out_tif, coords):\n",
    "\n",
    "    #load the mosaided file\n",
    "    data = rasterio.open(in_tif)\n",
    "\n",
    "    out_img, out_transform = rasterio.mask.mask(dataset=data, shapes=coords, crop=True)\n",
    "\n",
    "    # Copy the metadata\n",
    "    out_meta = data.meta.copy()\n",
    "\n",
    "    # Parse EPSG code\n",
    "    epsg_code = int(data.crs['init'][5:])\n",
    "\n",
    "    out_meta.update({\"driver\": \"GTiff\",\n",
    "            \"height\": out_img.shape[1],\n",
    "            \"width\": out_img.shape[2],\n",
    "            \"transform\": out_transform,\n",
    "            \"crs\": epsg_code} #pycrs.parse.from_epsg_code(epsg_code).to_proj4()}\n",
    "            )\n",
    "\n",
    "    with rasterio.open(out_tif, \"w\", **out_meta) as dest:\n",
    "        dest.write(out_img)\n",
    "\n",
    "    print(out_tif)"
   ]
  },
  {
   "cell_type": "code",
   "execution_count": null,
   "id": "c458a4de-d257-4fca-b6a0-5efc7d145dc2",
   "metadata": {},
   "outputs": [],
   "source": [
    "def get_src_crs(prototype_tif):\n",
    "    \n",
    "    with rasterio.open(prototype_tif, 'r') as test:\n",
    "        src_crs = test.crs.to_epsg()\n",
    "        \n",
    "    return src_crs"
   ]
  },
  {
   "cell_type": "code",
   "execution_count": null,
   "id": "7de672ec-1530-4c3c-bf1c-c22a487f1e88",
   "metadata": {},
   "outputs": [],
   "source": [
    "def getFeatures(gdf):\n",
    "    \"\"\"Function to parse features from GeoDataFrame in such a manner that rasterio wants them\"\"\"\n",
    "    import json\n",
    "    return [json.loads(gdf.to_json())['features'][0]['geometry']]"
   ]
  },
  {
   "cell_type": "code",
   "execution_count": null,
   "id": "9c73ea74-a2c8-4748-8df8-f4f0efe61236",
   "metadata": {},
   "outputs": [],
   "source": [
    "# Set directory for downloading the quad tiles to\n",
    "root_dir= './data/'\n",
    "sentinel_clip_dir = os.path.join(root_dir,'Andramasina_trees_location_2_L3A/') # <= customized to month/year of interest\n",
    "if not os.path.exists(sentinel_clip_dir):\n",
    "    os.makedirs(sentinel_clip_dir)\n",
    "    \n",
    "image_file_out = os.path.join(sentinel_clip_dir,'Andramasina_trees_location_2_L3A_clip.tif')\n",
    "\n",
    "src_crs = get_src_crs(bgrnir_out)\n",
    "coords = get_bounds_of_AoI(aoi_path ,src_crs)\n",
    "clip_raster_with_bounds(bgrnir_out,image_file_out, coords)"
   ]
  },
  {
   "cell_type": "code",
   "execution_count": null,
   "id": "dcb3ce39-fb0c-439f-ab81-24ed072c335d",
   "metadata": {},
   "outputs": [],
   "source": []
  },
  {
   "cell_type": "code",
   "execution_count": null,
   "id": "29eaf3ba-665c-4357-8a50-b6a46bcd678e",
   "metadata": {},
   "outputs": [],
   "source": []
  }
 ],
 "metadata": {
  "kernelspec": {
   "display_name": "Python 3 (ipykernel)",
   "language": "python",
   "name": "python3"
  },
  "language_info": {
   "codemirror_mode": {
    "name": "ipython",
    "version": 3
   },
   "file_extension": ".py",
   "mimetype": "text/x-python",
   "name": "python",
   "nbconvert_exporter": "python",
   "pygments_lexer": "ipython3",
   "version": "3.9.12"
  }
 },
 "nbformat": 4,
 "nbformat_minor": 5
}
