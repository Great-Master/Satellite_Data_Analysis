{
 "cells": [
  {
   "cell_type": "markdown",
   "id": "5ea45a7f-d441-491a-8b3f-65cc71c6641c",
   "metadata": {},
   "source": [
    "https://daniel-clement.medium.com/using-gdal-with-python-scripting-d84f02e03531"
   ]
  },
  {
   "cell_type": "code",
   "execution_count": null,
   "id": "f1e9bbe4-cb8f-493f-b2ef-9966a864c7b8",
   "metadata": {},
   "outputs": [],
   "source": [
    "#! conda install -c conda-forge gdal"
   ]
  },
  {
   "cell_type": "code",
   "execution_count": 4,
   "id": "cdcd87a6-72cf-42b9-9087-c6b1880dcecb",
   "metadata": {},
   "outputs": [],
   "source": [
    "# do imports\n",
    "import os"
   ]
  },
  {
   "cell_type": "code",
   "execution_count": 5,
   "id": "049bb475-23c0-4826-b352-90ea11be8370",
   "metadata": {},
   "outputs": [],
   "source": [
    "# the raster you want to clip\n",
    "#in_raster = r\"/media/duplex/COMMUN/bondy_project/Andramasina/Andramasina_planet/planet_medres_normalized_analytic_2020-10_clip.tif\"\n",
    "\n",
    "in_raster = r\"/media/duplex/COMMUN/geoml/fkkl_eo_fire_project/temp/2020_Hilltops_Training_Points_water_01.tif\"\n",
    "\n",
    "# the polygon feature you want to clip the raster to - ShapeFile or Feature Class\n",
    "#clip_feature = r\"/media/duplex/COMMUN/bondy_project/Andramasina/Andramasina_vector/shapefile/Andramasina_trees_location_2.shp\"\n",
    "clip_feature = r\"/media/duplex/COMMUN/DataFarming/Omdena-data-farming/data_farming_cleanup/ShapeOut/2020_Hilltops_Training_Points_water_01.shp\"\n",
    "\n",
    "# the output clipped raster\n",
    "out_raster = r\"/home/duplex/Desktop/example_clipped.tif\"\n",
    "out_raster = r\"/media/duplex/COMMUN/geoml/fkkl_eo_fire_project/temp/2020_Hilltops_Training_Points_water_01_reclib.tif\"\n"
   ]
  },
  {
   "cell_type": "code",
   "execution_count": null,
   "id": "d2876787-c650-488e-b2a7-3634ac4a799f",
   "metadata": {},
   "outputs": [],
   "source": []
  },
  {
   "cell_type": "code",
   "execution_count": 6,
   "id": "ac06cece-394a-48eb-a772-30c40524b7f7",
   "metadata": {},
   "outputs": [],
   "source": [
    "def clip_raster(clip_feature, in_raster, out_raster):\n",
    "    \"\"\"\n",
    "    This function will create and execute a GDAL Warp command with the given inputs\n",
    "    \"\"\"\n",
    "    \n",
    "    print(\"Clipping raster...\")\n",
    "    \n",
    "    # creates the gdal warp command\n",
    "    command = f\"gdalwarp -dstnodata NoData -cutline {clip_feature} {in_raster} {out_raster}\"\n",
    "\n",
    "    # runs the command\n",
    "    os.system(command)"
   ]
  },
  {
   "cell_type": "code",
   "execution_count": null,
   "id": "f21fa561-58c2-4654-a974-ab1fbcea9e3c",
   "metadata": {},
   "outputs": [],
   "source": []
  },
  {
   "cell_type": "code",
   "execution_count": 7,
   "id": "0ca1f390-5dad-42c3-82ee-f0ba0392b926",
   "metadata": {},
   "outputs": [
    {
     "name": "stdout",
     "output_type": "stream",
     "text": [
      "Clipping raster...\n",
      "Creating output file that is 10980P x 10980L.\n",
      "Processing /media/duplex/COMMUN/geoml/fkkl_eo_fire_project/temp/2020_Hilltops_Training_Points_water_01.tif [1/1] : 0...10...20...30...40...50...60...70...80...90...100 - done.\n"
     ]
    }
   ],
   "source": [
    "clip_raster(clip_feature, in_raster, out_raster)"
   ]
  },
  {
   "cell_type": "code",
   "execution_count": null,
   "id": "f86ecf03-5a27-4c1e-ad49-bfb03ca018ba",
   "metadata": {},
   "outputs": [],
   "source": []
  }
 ],
 "metadata": {
  "kernelspec": {
   "display_name": "Python 3 (ipykernel)",
   "language": "python",
   "name": "python3"
  },
  "language_info": {
   "codemirror_mode": {
    "name": "ipython",
    "version": 3
   },
   "file_extension": ".py",
   "mimetype": "text/x-python",
   "name": "python",
   "nbconvert_exporter": "python",
   "pygments_lexer": "ipython3",
   "version": "3.9.12"
  }
 },
 "nbformat": 4,
 "nbformat_minor": 5
}
